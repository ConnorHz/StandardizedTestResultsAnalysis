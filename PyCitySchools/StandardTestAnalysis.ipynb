{
 "metadata": {
  "language_info": {
   "codemirror_mode": {
    "name": "ipython",
    "version": 3
   },
   "file_extension": ".py",
   "mimetype": "text/x-python",
   "name": "python",
   "nbconvert_exporter": "python",
   "pygments_lexer": "ipython3",
   "version": "3.6.12-final"
  },
  "orig_nbformat": 2,
  "kernelspec": {
   "name": "Python 3.6.12 64-bit ('PythonData': conda)",
   "display_name": "Python 3.6.12 64-bit ('PythonData': conda)",
   "metadata": {
    "interpreter": {
     "hash": "b3b821950fed1514dbce0e0b0307ca89830ad4ea6ad4dc85989b5afd5855c31b"
    }
   }
  }
 },
 "nbformat": 4,
 "nbformat_minor": 2,
 "cells": [
  {
   "source": [
    "Using the analysis below, I observed the following trends\n",
    "\n",
    "### 1. Charter schools outperform District schools\n",
    "When looking at the comparison of charter versus district schools as well as the top schools overall (in terms of percentage of students passing math and reading), it is clear that charter schools outperform district schools. Per the data, charter schools test higher in both reading and math and have they a higher percentage of students that pass both their reading and math tests. I think a common assumption would be that if a school had a higher budget per student, test scores would be higher as they'd have the financial resources to ensure the education of the students, but that doesn't seem to be the case. Most district schools have a higher budget per student than charter schools but are testing lower. I believe what really makes a difference is the size of the school. The data shows that the lower the student population, the higher the their test results are. What's not included in this dataset are the class sizes, which I could see playing a big role in detemining if school size is actually a factor. If charter and district schools had different student populations but the same class sizes, we'd have to look somewhere else to determine why charter schools are outperforming district ones.\n",
    "\n",
    "### 2. \n"
   ],
   "cell_type": "markdown",
   "metadata": {}
  },
  {
   "cell_type": "code",
   "execution_count": 8,
   "metadata": {},
   "outputs": [
    {
     "output_type": "execute_result",
     "data": {
      "text/plain": [
       "   Student ID       student_name gender grade        school_name  \\\n",
       "0           0       Paul Bradley      M   9th  Huang High School   \n",
       "1           1       Victor Smith      M  12th  Huang High School   \n",
       "2           2    Kevin Rodriguez      M  12th  Huang High School   \n",
       "3           3  Dr. Richard Scott      M  12th  Huang High School   \n",
       "4           4         Bonnie Ray      F   9th  Huang High School   \n",
       "\n",
       "   reading_score  math_score  School ID      type  size   budget  \n",
       "0             66          79          0  District  2917  1910635  \n",
       "1             94          61          0  District  2917  1910635  \n",
       "2             90          60          0  District  2917  1910635  \n",
       "3             67          58          0  District  2917  1910635  \n",
       "4             97          84          0  District  2917  1910635  "
      ],
      "text/html": "<div>\n<style scoped>\n    .dataframe tbody tr th:only-of-type {\n        vertical-align: middle;\n    }\n\n    .dataframe tbody tr th {\n        vertical-align: top;\n    }\n\n    .dataframe thead th {\n        text-align: right;\n    }\n</style>\n<table border=\"1\" class=\"dataframe\">\n  <thead>\n    <tr style=\"text-align: right;\">\n      <th></th>\n      <th>Student ID</th>\n      <th>student_name</th>\n      <th>gender</th>\n      <th>grade</th>\n      <th>school_name</th>\n      <th>reading_score</th>\n      <th>math_score</th>\n      <th>School ID</th>\n      <th>type</th>\n      <th>size</th>\n      <th>budget</th>\n    </tr>\n  </thead>\n  <tbody>\n    <tr>\n      <th>0</th>\n      <td>0</td>\n      <td>Paul Bradley</td>\n      <td>M</td>\n      <td>9th</td>\n      <td>Huang High School</td>\n      <td>66</td>\n      <td>79</td>\n      <td>0</td>\n      <td>District</td>\n      <td>2917</td>\n      <td>1910635</td>\n    </tr>\n    <tr>\n      <th>1</th>\n      <td>1</td>\n      <td>Victor Smith</td>\n      <td>M</td>\n      <td>12th</td>\n      <td>Huang High School</td>\n      <td>94</td>\n      <td>61</td>\n      <td>0</td>\n      <td>District</td>\n      <td>2917</td>\n      <td>1910635</td>\n    </tr>\n    <tr>\n      <th>2</th>\n      <td>2</td>\n      <td>Kevin Rodriguez</td>\n      <td>M</td>\n      <td>12th</td>\n      <td>Huang High School</td>\n      <td>90</td>\n      <td>60</td>\n      <td>0</td>\n      <td>District</td>\n      <td>2917</td>\n      <td>1910635</td>\n    </tr>\n    <tr>\n      <th>3</th>\n      <td>3</td>\n      <td>Dr. Richard Scott</td>\n      <td>M</td>\n      <td>12th</td>\n      <td>Huang High School</td>\n      <td>67</td>\n      <td>58</td>\n      <td>0</td>\n      <td>District</td>\n      <td>2917</td>\n      <td>1910635</td>\n    </tr>\n    <tr>\n      <th>4</th>\n      <td>4</td>\n      <td>Bonnie Ray</td>\n      <td>F</td>\n      <td>9th</td>\n      <td>Huang High School</td>\n      <td>97</td>\n      <td>84</td>\n      <td>0</td>\n      <td>District</td>\n      <td>2917</td>\n      <td>1910635</td>\n    </tr>\n  </tbody>\n</table>\n</div>"
     },
     "metadata": {},
     "execution_count": 8
    }
   ],
   "source": [
    "import pandas as pd\n",
    "\n",
    "# Read School and Student Data File and store into Pandas DataFrames\n",
    "df_students = pd.read_csv('Resources/students_complete.csv', delimiter=\",\")\n",
    "df_schools = pd.read_csv('Resources/schools_complete.csv', delimiter=\",\")\n",
    "\n",
    "# Combine the data into a single dataset.\n",
    "df_student_schools = df_students.merge(df_schools, on=\"school_name\", how='left')\n",
    "\n",
    "df_student_schools.head()"
   ]
  },
  {
   "source": [
    "# District Summary"
   ],
   "cell_type": "markdown",
   "metadata": {}
  },
  {
   "cell_type": "code",
   "execution_count": 9,
   "metadata": {
    "tags": []
   },
   "outputs": [
    {
     "output_type": "execute_result",
     "data": {
      "text/plain": [
       "   Total Number of Schools  Total Number of Students Total Budget  \\\n",
       "0                       15                     39170  $24,649,428   \n",
       "\n",
       "   Average Math Score  Average Reading Score % Passing Math % Reading  \\\n",
       "0                  79                     82            75%       86%   \n",
       "\n",
       "  % Passing Overall  \n",
       "0               65%  "
      ],
      "text/html": "<div>\n<style scoped>\n    .dataframe tbody tr th:only-of-type {\n        vertical-align: middle;\n    }\n\n    .dataframe tbody tr th {\n        vertical-align: top;\n    }\n\n    .dataframe thead th {\n        text-align: right;\n    }\n</style>\n<table border=\"1\" class=\"dataframe\">\n  <thead>\n    <tr style=\"text-align: right;\">\n      <th></th>\n      <th>Total Number of Schools</th>\n      <th>Total Number of Students</th>\n      <th>Total Budget</th>\n      <th>Average Math Score</th>\n      <th>Average Reading Score</th>\n      <th>% Passing Math</th>\n      <th>% Reading</th>\n      <th>% Passing Overall</th>\n    </tr>\n  </thead>\n  <tbody>\n    <tr>\n      <th>0</th>\n      <td>15</td>\n      <td>39170</td>\n      <td>$24,649,428</td>\n      <td>79</td>\n      <td>82</td>\n      <td>75%</td>\n      <td>86%</td>\n      <td>65%</td>\n    </tr>\n  </tbody>\n</table>\n</div>"
     },
     "metadata": {},
     "execution_count": 9
    }
   ],
   "source": [
    "total_schools = len(df_schools)\n",
    "total_students = len(df_students)\n",
    "total_budget = f'${df_schools[\"budget\"].sum():,}'\n",
    "average_math_score = round(df_students['math_score'].mean())\n",
    "average_reading_score = round(df_students['reading_score'].mean())\n",
    "percent_pass_math = '{:.0%}'.format(len(df_students.loc[df_students['math_score'] >= 70])/total_students)\n",
    "percent_pass_reading = '{:.0%}'.format(len(df_students.loc[df_students['reading_score'] >= 70])/total_students)\n",
    "percent_pass_math_and_reading = '{:.0%}'.format(len(df_students.loc[(df_students['reading_score'] >= 70) & (df_students['math_score'] >= 70)])/total_students)\n",
    "\n",
    "df_district_summary = pd.DataFrame({\n",
    "    'Total Number of Schools': [total_schools],\n",
    "    'Total Number of Students': [total_students],\n",
    "    'Total Budget': [total_budget],\n",
    "    'Average Math Score': [average_math_score],\n",
    "    'Average Reading Score': [average_reading_score],\n",
    "    '% Passing Math': [percent_pass_math],\n",
    "    '% Reading': [percent_pass_reading],\n",
    "    '% Passing Overall': [percent_pass_math_and_reading]\n",
    "})\n",
    "\n",
    "df_district_summary.head()"
   ]
  },
  {
   "source": [
    "# School Summary"
   ],
   "cell_type": "markdown",
   "metadata": {}
  },
  {
   "cell_type": "code",
   "execution_count": 18,
   "metadata": {},
   "outputs": [
    {
     "output_type": "execute_result",
     "data": {
      "text/plain": [
       "                                Number of Students      Budget  \\\n",
       "school_name           type                                       \n",
       "Bailey High School    District                4976  $3,124,928   \n",
       "Cabrera High School   Charter                 1858  $1,081,356   \n",
       "Figueroa High School  District                2949  $1,884,411   \n",
       "Ford High School      District                2739  $1,763,916   \n",
       "Griffin High School   Charter                 1468    $917,500   \n",
       "Hernandez High School District                4635  $3,022,020   \n",
       "Holden High School    Charter                  427    $248,087   \n",
       "Huang High School     District                2917  $1,910,635   \n",
       "Johnson High School   District                4761  $3,094,650   \n",
       "Pena High School      Charter                  962    $585,858   \n",
       "Rodriguez High School District                3999  $2,547,363   \n",
       "Shelton High School   Charter                 1761  $1,056,600   \n",
       "Thomas High School    Charter                 1635  $1,043,130   \n",
       "Wilson High School    Charter                 2283  $1,319,574   \n",
       "Wright High School    Charter                 1800  $1,049,400   \n",
       "\n",
       "                               Budget Per Student Average Math Score  \\\n",
       "school_name           type                                             \n",
       "Bailey High School    District               $628                 77   \n",
       "Cabrera High School   Charter                $582                 83   \n",
       "Figueroa High School  District               $639                 77   \n",
       "Ford High School      District               $644                 77   \n",
       "Griffin High School   Charter                $625                 83   \n",
       "Hernandez High School District               $652                 77   \n",
       "Holden High School    Charter                $581                 84   \n",
       "Huang High School     District               $655                 77   \n",
       "Johnson High School   District               $650                 77   \n",
       "Pena High School      Charter                $609                 84   \n",
       "Rodriguez High School District               $637                 77   \n",
       "Shelton High School   Charter                $600                 83   \n",
       "Thomas High School    Charter                $638                 83   \n",
       "Wilson High School    Charter                $578                 83   \n",
       "Wright High School    Charter                $583                 84   \n",
       "\n",
       "                               Average Reading Score % Passing Math  \\\n",
       "school_name           type                                            \n",
       "Bailey High School    District                    81            67%   \n",
       "Cabrera High School   Charter                     84            94%   \n",
       "Figueroa High School  District                    81            66%   \n",
       "Ford High School      District                    81            68%   \n",
       "Griffin High School   Charter                     84            93%   \n",
       "Hernandez High School District                    81            67%   \n",
       "Holden High School    Charter                     84            93%   \n",
       "Huang High School     District                    81            66%   \n",
       "Johnson High School   District                    81            66%   \n",
       "Pena High School      Charter                     84            95%   \n",
       "Rodriguez High School District                    81            66%   \n",
       "Shelton High School   Charter                     84            94%   \n",
       "Thomas High School    Charter                     84            93%   \n",
       "Wilson High School    Charter                     84            94%   \n",
       "Wright High School    Charter                     84            93%   \n",
       "\n",
       "                               % Passing Reading % Passing Overall  \n",
       "school_name           type                                          \n",
       "Bailey High School    District               82%               55%  \n",
       "Cabrera High School   Charter                97%               91%  \n",
       "Figueroa High School  District               81%               53%  \n",
       "Ford High School      District               79%               54%  \n",
       "Griffin High School   Charter                97%               91%  \n",
       "Hernandez High School District               81%               54%  \n",
       "Holden High School    Charter                96%               89%  \n",
       "Huang High School     District               81%               54%  \n",
       "Johnson High School   District               81%               54%  \n",
       "Pena High School      Charter                96%               91%  \n",
       "Rodriguez High School District               80%               53%  \n",
       "Shelton High School   Charter                96%               90%  \n",
       "Thomas High School    Charter                97%               91%  \n",
       "Wilson High School    Charter                97%               91%  \n",
       "Wright High School    Charter                97%               90%  "
      ],
      "text/html": "<div>\n<style scoped>\n    .dataframe tbody tr th:only-of-type {\n        vertical-align: middle;\n    }\n\n    .dataframe tbody tr th {\n        vertical-align: top;\n    }\n\n    .dataframe thead th {\n        text-align: right;\n    }\n</style>\n<table border=\"1\" class=\"dataframe\">\n  <thead>\n    <tr style=\"text-align: right;\">\n      <th></th>\n      <th></th>\n      <th>Number of Students</th>\n      <th>Budget</th>\n      <th>Budget Per Student</th>\n      <th>Average Math Score</th>\n      <th>Average Reading Score</th>\n      <th>% Passing Math</th>\n      <th>% Passing Reading</th>\n      <th>% Passing Overall</th>\n    </tr>\n    <tr>\n      <th>school_name</th>\n      <th>type</th>\n      <th></th>\n      <th></th>\n      <th></th>\n      <th></th>\n      <th></th>\n      <th></th>\n      <th></th>\n      <th></th>\n    </tr>\n  </thead>\n  <tbody>\n    <tr>\n      <th>Bailey High School</th>\n      <th>District</th>\n      <td>4976</td>\n      <td>$3,124,928</td>\n      <td>$628</td>\n      <td>77</td>\n      <td>81</td>\n      <td>67%</td>\n      <td>82%</td>\n      <td>55%</td>\n    </tr>\n    <tr>\n      <th>Cabrera High School</th>\n      <th>Charter</th>\n      <td>1858</td>\n      <td>$1,081,356</td>\n      <td>$582</td>\n      <td>83</td>\n      <td>84</td>\n      <td>94%</td>\n      <td>97%</td>\n      <td>91%</td>\n    </tr>\n    <tr>\n      <th>Figueroa High School</th>\n      <th>District</th>\n      <td>2949</td>\n      <td>$1,884,411</td>\n      <td>$639</td>\n      <td>77</td>\n      <td>81</td>\n      <td>66%</td>\n      <td>81%</td>\n      <td>53%</td>\n    </tr>\n    <tr>\n      <th>Ford High School</th>\n      <th>District</th>\n      <td>2739</td>\n      <td>$1,763,916</td>\n      <td>$644</td>\n      <td>77</td>\n      <td>81</td>\n      <td>68%</td>\n      <td>79%</td>\n      <td>54%</td>\n    </tr>\n    <tr>\n      <th>Griffin High School</th>\n      <th>Charter</th>\n      <td>1468</td>\n      <td>$917,500</td>\n      <td>$625</td>\n      <td>83</td>\n      <td>84</td>\n      <td>93%</td>\n      <td>97%</td>\n      <td>91%</td>\n    </tr>\n    <tr>\n      <th>Hernandez High School</th>\n      <th>District</th>\n      <td>4635</td>\n      <td>$3,022,020</td>\n      <td>$652</td>\n      <td>77</td>\n      <td>81</td>\n      <td>67%</td>\n      <td>81%</td>\n      <td>54%</td>\n    </tr>\n    <tr>\n      <th>Holden High School</th>\n      <th>Charter</th>\n      <td>427</td>\n      <td>$248,087</td>\n      <td>$581</td>\n      <td>84</td>\n      <td>84</td>\n      <td>93%</td>\n      <td>96%</td>\n      <td>89%</td>\n    </tr>\n    <tr>\n      <th>Huang High School</th>\n      <th>District</th>\n      <td>2917</td>\n      <td>$1,910,635</td>\n      <td>$655</td>\n      <td>77</td>\n      <td>81</td>\n      <td>66%</td>\n      <td>81%</td>\n      <td>54%</td>\n    </tr>\n    <tr>\n      <th>Johnson High School</th>\n      <th>District</th>\n      <td>4761</td>\n      <td>$3,094,650</td>\n      <td>$650</td>\n      <td>77</td>\n      <td>81</td>\n      <td>66%</td>\n      <td>81%</td>\n      <td>54%</td>\n    </tr>\n    <tr>\n      <th>Pena High School</th>\n      <th>Charter</th>\n      <td>962</td>\n      <td>$585,858</td>\n      <td>$609</td>\n      <td>84</td>\n      <td>84</td>\n      <td>95%</td>\n      <td>96%</td>\n      <td>91%</td>\n    </tr>\n    <tr>\n      <th>Rodriguez High School</th>\n      <th>District</th>\n      <td>3999</td>\n      <td>$2,547,363</td>\n      <td>$637</td>\n      <td>77</td>\n      <td>81</td>\n      <td>66%</td>\n      <td>80%</td>\n      <td>53%</td>\n    </tr>\n    <tr>\n      <th>Shelton High School</th>\n      <th>Charter</th>\n      <td>1761</td>\n      <td>$1,056,600</td>\n      <td>$600</td>\n      <td>83</td>\n      <td>84</td>\n      <td>94%</td>\n      <td>96%</td>\n      <td>90%</td>\n    </tr>\n    <tr>\n      <th>Thomas High School</th>\n      <th>Charter</th>\n      <td>1635</td>\n      <td>$1,043,130</td>\n      <td>$638</td>\n      <td>83</td>\n      <td>84</td>\n      <td>93%</td>\n      <td>97%</td>\n      <td>91%</td>\n    </tr>\n    <tr>\n      <th>Wilson High School</th>\n      <th>Charter</th>\n      <td>2283</td>\n      <td>$1,319,574</td>\n      <td>$578</td>\n      <td>83</td>\n      <td>84</td>\n      <td>94%</td>\n      <td>97%</td>\n      <td>91%</td>\n    </tr>\n    <tr>\n      <th>Wright High School</th>\n      <th>Charter</th>\n      <td>1800</td>\n      <td>$1,049,400</td>\n      <td>$583</td>\n      <td>84</td>\n      <td>84</td>\n      <td>93%</td>\n      <td>97%</td>\n      <td>90%</td>\n    </tr>\n  </tbody>\n</table>\n</div>"
     },
     "metadata": {},
     "execution_count": 18
    }
   ],
   "source": [
    "df_grouped_schools = df_student_schools.groupby([\"school_name\", \"type\"])\n",
    "\n",
    "df_total_students = df_grouped_schools['Student ID'].count()\n",
    "df_total_budget = df_grouped_schools['budget'].max() # Since each school has 1 budget, just use max to get the budget of each school\n",
    "df_budget_per_student = df_grouped_schools['budget'].max()/df_grouped_schools['Student ID'].count()\n",
    "df_average_math_score = df_grouped_schools['math_score'].mean()\n",
    "df_average_reading_score = df_grouped_schools['reading_score'].mean()\n",
    "df_percent_pass_math = df_grouped_schools.apply(lambda x: x[x['math_score'] >= 70]['Student ID'].count()/x['Student ID'].count())\n",
    "df_percent_pass_reading = df_grouped_schools.apply(lambda x: x[x['reading_score'] >= 70]['Student ID'].count()/x['Student ID'].count())\n",
    "df_percent_pass_math_and_reading = df_grouped_schools.apply(lambda x: x[(x['math_score'] >= 70) & (x['reading_score'] >= 70)]['Student ID'].count()/x['Student ID'].count())\n",
    "\n",
    "df_school_summary = pd.DataFrame({\n",
    "    'Number of Students': df_total_students,\n",
    "    'Budget': df_total_budget,\n",
    "    'Budget Per Student': df_budget_per_student,\n",
    "    'Average Math Score': df_average_math_score,\n",
    "    'Average Reading Score': df_average_reading_score,\n",
    "    '% Passing Math': df_percent_pass_math,\n",
    "    '% Passing Reading': df_percent_pass_reading,\n",
    "    '% Passing Overall': df_percent_pass_math_and_reading\n",
    "})\n",
    "\n",
    "df_school_summary_formatted = df_school_summary.copy()\n",
    "\n",
    "df_school_summary_formatted['Budget'] = df_school_summary_formatted['Budget'].map(\"${:,.0f}\".format)\n",
    "df_school_summary_formatted['Budget Per Student'] = df_school_summary_formatted['Budget Per Student'].map(\"${:,.0f}\".format)\n",
    "df_school_summary_formatted['Average Math Score'] = df_school_summary_formatted['Average Math Score'].map(\"{:.0f}\".format)\n",
    "df_school_summary_formatted['Average Reading Score'] = df_school_summary_formatted['Average Reading Score'].map(\"{:.0f}\".format)\n",
    "df_school_summary_formatted['% Passing Math'] = df_school_summary_formatted['% Passing Math'].map(\"{:.0%}\".format)\n",
    "df_school_summary_formatted['% Passing Reading'] = df_school_summary_formatted['% Passing Reading'].map(\"{:.0%}\".format)\n",
    "df_school_summary_formatted['% Passing Overall'] = df_school_summary_formatted['% Passing Overall'].map(\"{:.0%}\".format)\n",
    "\n",
    "\n",
    "df_school_summary_formatted\n"
   ]
  },
  {
   "source": [
    "# Top Performing Schools (By % Overall Passing)"
   ],
   "cell_type": "markdown",
   "metadata": {}
  },
  {
   "cell_type": "code",
   "execution_count": 11,
   "metadata": {},
   "outputs": [
    {
     "output_type": "execute_result",
     "data": {
      "text/plain": [
       "                             Number of Students      Budget  \\\n",
       "school_name         type                                      \n",
       "Cabrera High School Charter                1858  $1,081,356   \n",
       "Thomas High School  Charter                1635  $1,043,130   \n",
       "Griffin High School Charter                1468    $917,500   \n",
       "Wilson High School  Charter                2283  $1,319,574   \n",
       "Pena High School    Charter                 962    $585,858   \n",
       "\n",
       "                            Budget Per Student Average Math Score  \\\n",
       "school_name         type                                            \n",
       "Cabrera High School Charter               $582                 83   \n",
       "Thomas High School  Charter               $638                 83   \n",
       "Griffin High School Charter               $625                 83   \n",
       "Wilson High School  Charter               $578                 83   \n",
       "Pena High School    Charter               $609                 84   \n",
       "\n",
       "                            Average Reading Score % Passing Math  \\\n",
       "school_name         type                                           \n",
       "Cabrera High School Charter                    84            94%   \n",
       "Thomas High School  Charter                    84            93%   \n",
       "Griffin High School Charter                    84            93%   \n",
       "Wilson High School  Charter                    84            94%   \n",
       "Pena High School    Charter                    84            95%   \n",
       "\n",
       "                            % Passing Reading % Passing Overall  \n",
       "school_name         type                                         \n",
       "Cabrera High School Charter               97%               91%  \n",
       "Thomas High School  Charter               97%               91%  \n",
       "Griffin High School Charter               97%               91%  \n",
       "Wilson High School  Charter               97%               91%  \n",
       "Pena High School    Charter               96%               91%  "
      ],
      "text/html": "<div>\n<style scoped>\n    .dataframe tbody tr th:only-of-type {\n        vertical-align: middle;\n    }\n\n    .dataframe tbody tr th {\n        vertical-align: top;\n    }\n\n    .dataframe thead th {\n        text-align: right;\n    }\n</style>\n<table border=\"1\" class=\"dataframe\">\n  <thead>\n    <tr style=\"text-align: right;\">\n      <th></th>\n      <th></th>\n      <th>Number of Students</th>\n      <th>Budget</th>\n      <th>Budget Per Student</th>\n      <th>Average Math Score</th>\n      <th>Average Reading Score</th>\n      <th>% Passing Math</th>\n      <th>% Passing Reading</th>\n      <th>% Passing Overall</th>\n    </tr>\n    <tr>\n      <th>school_name</th>\n      <th>type</th>\n      <th></th>\n      <th></th>\n      <th></th>\n      <th></th>\n      <th></th>\n      <th></th>\n      <th></th>\n      <th></th>\n    </tr>\n  </thead>\n  <tbody>\n    <tr>\n      <th>Cabrera High School</th>\n      <th>Charter</th>\n      <td>1858</td>\n      <td>$1,081,356</td>\n      <td>$582</td>\n      <td>83</td>\n      <td>84</td>\n      <td>94%</td>\n      <td>97%</td>\n      <td>91%</td>\n    </tr>\n    <tr>\n      <th>Thomas High School</th>\n      <th>Charter</th>\n      <td>1635</td>\n      <td>$1,043,130</td>\n      <td>$638</td>\n      <td>83</td>\n      <td>84</td>\n      <td>93%</td>\n      <td>97%</td>\n      <td>91%</td>\n    </tr>\n    <tr>\n      <th>Griffin High School</th>\n      <th>Charter</th>\n      <td>1468</td>\n      <td>$917,500</td>\n      <td>$625</td>\n      <td>83</td>\n      <td>84</td>\n      <td>93%</td>\n      <td>97%</td>\n      <td>91%</td>\n    </tr>\n    <tr>\n      <th>Wilson High School</th>\n      <th>Charter</th>\n      <td>2283</td>\n      <td>$1,319,574</td>\n      <td>$578</td>\n      <td>83</td>\n      <td>84</td>\n      <td>94%</td>\n      <td>97%</td>\n      <td>91%</td>\n    </tr>\n    <tr>\n      <th>Pena High School</th>\n      <th>Charter</th>\n      <td>962</td>\n      <td>$585,858</td>\n      <td>$609</td>\n      <td>84</td>\n      <td>84</td>\n      <td>95%</td>\n      <td>96%</td>\n      <td>91%</td>\n    </tr>\n  </tbody>\n</table>\n</div>"
     },
     "metadata": {},
     "execution_count": 11
    }
   ],
   "source": [
    "df_top_performing_schools = df_school_summary.nlargest(5, '% Passing Overall')\n",
    "\n",
    "df_top_performing_schools['Budget'] = df_top_performing_schools['Budget'].map(\"${:,.0f}\".format)\n",
    "df_top_performing_schools['Budget Per Student'] = df_top_performing_schools['Budget Per Student'].map(\"${:,.0f}\".format)\n",
    "df_top_performing_schools['Average Math Score'] = df_top_performing_schools['Average Math Score'].map(\"{:.0f}\".format)\n",
    "df_top_performing_schools['Average Reading Score'] = df_top_performing_schools['Average Reading Score'].map(\"{:.0f}\".format)\n",
    "df_top_performing_schools['% Passing Math'] = df_top_performing_schools['% Passing Math'].map(\"{:.0%}\".format)\n",
    "df_top_performing_schools['% Passing Reading'] = df_top_performing_schools['% Passing Reading'].map(\"{:.0%}\".format)\n",
    "df_top_performing_schools['% Passing Overall'] = df_top_performing_schools['% Passing Overall'].map(\"{:.0%}\".format)\n",
    "\n",
    "df_top_performing_schools"
   ]
  },
  {
   "source": [
    "# Bottom Performing Schools (By % Overall Passing)"
   ],
   "cell_type": "markdown",
   "metadata": {}
  },
  {
   "cell_type": "code",
   "execution_count": 12,
   "metadata": {},
   "outputs": [
    {
     "output_type": "execute_result",
     "data": {
      "text/plain": [
       "                                Number of Students      Budget  \\\n",
       "school_name           type                                       \n",
       "Rodriguez High School District                3999  $2,547,363   \n",
       "Figueroa High School  District                2949  $1,884,411   \n",
       "Huang High School     District                2917  $1,910,635   \n",
       "Hernandez High School District                4635  $3,022,020   \n",
       "Johnson High School   District                4761  $3,094,650   \n",
       "\n",
       "                               Budget Per Student Average Math Score  \\\n",
       "school_name           type                                             \n",
       "Rodriguez High School District               $637                 77   \n",
       "Figueroa High School  District               $639                 77   \n",
       "Huang High School     District               $655                 77   \n",
       "Hernandez High School District               $652                 77   \n",
       "Johnson High School   District               $650                 77   \n",
       "\n",
       "                               Average Reading Score % Passing Math  \\\n",
       "school_name           type                                            \n",
       "Rodriguez High School District                    81            66%   \n",
       "Figueroa High School  District                    81            66%   \n",
       "Huang High School     District                    81            66%   \n",
       "Hernandez High School District                    81            67%   \n",
       "Johnson High School   District                    81            66%   \n",
       "\n",
       "                               % Passing Reading % Passing Overall  \n",
       "school_name           type                                          \n",
       "Rodriguez High School District               80%               53%  \n",
       "Figueroa High School  District               81%               53%  \n",
       "Huang High School     District               81%               54%  \n",
       "Hernandez High School District               81%               54%  \n",
       "Johnson High School   District               81%               54%  "
      ],
      "text/html": "<div>\n<style scoped>\n    .dataframe tbody tr th:only-of-type {\n        vertical-align: middle;\n    }\n\n    .dataframe tbody tr th {\n        vertical-align: top;\n    }\n\n    .dataframe thead th {\n        text-align: right;\n    }\n</style>\n<table border=\"1\" class=\"dataframe\">\n  <thead>\n    <tr style=\"text-align: right;\">\n      <th></th>\n      <th></th>\n      <th>Number of Students</th>\n      <th>Budget</th>\n      <th>Budget Per Student</th>\n      <th>Average Math Score</th>\n      <th>Average Reading Score</th>\n      <th>% Passing Math</th>\n      <th>% Passing Reading</th>\n      <th>% Passing Overall</th>\n    </tr>\n    <tr>\n      <th>school_name</th>\n      <th>type</th>\n      <th></th>\n      <th></th>\n      <th></th>\n      <th></th>\n      <th></th>\n      <th></th>\n      <th></th>\n      <th></th>\n    </tr>\n  </thead>\n  <tbody>\n    <tr>\n      <th>Rodriguez High School</th>\n      <th>District</th>\n      <td>3999</td>\n      <td>$2,547,363</td>\n      <td>$637</td>\n      <td>77</td>\n      <td>81</td>\n      <td>66%</td>\n      <td>80%</td>\n      <td>53%</td>\n    </tr>\n    <tr>\n      <th>Figueroa High School</th>\n      <th>District</th>\n      <td>2949</td>\n      <td>$1,884,411</td>\n      <td>$639</td>\n      <td>77</td>\n      <td>81</td>\n      <td>66%</td>\n      <td>81%</td>\n      <td>53%</td>\n    </tr>\n    <tr>\n      <th>Huang High School</th>\n      <th>District</th>\n      <td>2917</td>\n      <td>$1,910,635</td>\n      <td>$655</td>\n      <td>77</td>\n      <td>81</td>\n      <td>66%</td>\n      <td>81%</td>\n      <td>54%</td>\n    </tr>\n    <tr>\n      <th>Hernandez High School</th>\n      <th>District</th>\n      <td>4635</td>\n      <td>$3,022,020</td>\n      <td>$652</td>\n      <td>77</td>\n      <td>81</td>\n      <td>67%</td>\n      <td>81%</td>\n      <td>54%</td>\n    </tr>\n    <tr>\n      <th>Johnson High School</th>\n      <th>District</th>\n      <td>4761</td>\n      <td>$3,094,650</td>\n      <td>$650</td>\n      <td>77</td>\n      <td>81</td>\n      <td>66%</td>\n      <td>81%</td>\n      <td>54%</td>\n    </tr>\n  </tbody>\n</table>\n</div>"
     },
     "metadata": {},
     "execution_count": 12
    }
   ],
   "source": [
    "df_bottom_performing_schools = df_school_summary.nsmallest(5, '% Passing Overall')\n",
    "\n",
    "df_bottom_performing_schools['Budget'] = df_bottom_performing_schools['Budget'].map(\"${:,.0f}\".format)\n",
    "df_bottom_performing_schools['Budget Per Student'] = df_bottom_performing_schools['Budget Per Student'].map(\"${:,.0f}\".format)\n",
    "df_bottom_performing_schools['Average Math Score'] = df_bottom_performing_schools['Average Math Score'].map(\"{:.0f}\".format)\n",
    "df_bottom_performing_schools['Average Reading Score'] = df_bottom_performing_schools['Average Reading Score'].map(\"{:.0f}\".format)\n",
    "df_bottom_performing_schools['% Passing Math'] = df_bottom_performing_schools['% Passing Math'].map(\"{:.0%}\".format)\n",
    "df_bottom_performing_schools['% Passing Reading'] = df_bottom_performing_schools['% Passing Reading'].map(\"{:.0%}\".format)\n",
    "df_bottom_performing_schools['% Passing Overall'] = df_bottom_performing_schools['% Passing Overall'].map(\"{:.0%}\".format)\n",
    "\n",
    "df_bottom_performing_schools"
   ]
  },
  {
   "source": [
    "# Math Scores by Grade"
   ],
   "cell_type": "markdown",
   "metadata": {}
  },
  {
   "cell_type": "code",
   "execution_count": 13,
   "metadata": {},
   "outputs": [
    {
     "output_type": "execute_result",
     "data": {
      "text/plain": [
       "                      9th 10th 11th 12th\n",
       "school_name                             \n",
       "Bailey High School     77   77   78   76\n",
       "Cabrera High School    83   83   83   83\n",
       "Figueroa High School   76   77   77   77\n",
       "Ford High School       77   78   77   76\n",
       "Griffin High School    82   84   84   83\n",
       "Hernandez High School  77   77   77   77\n",
       "Holden High School     84   83   85   83\n",
       "Huang High School      77   76   76   77\n",
       "Johnson High School    77   77   77   77\n",
       "Pena High School       84   83   84   84\n",
       "Rodriguez High School  77   77   76   78\n",
       "Shelton High School    83   83   83   84\n",
       "Thomas High School     84   83   83   83\n",
       "Wilson High School     83   84   83   83\n",
       "Wright High School     83   84   84   84"
      ],
      "text/html": "<div>\n<style scoped>\n    .dataframe tbody tr th:only-of-type {\n        vertical-align: middle;\n    }\n\n    .dataframe tbody tr th {\n        vertical-align: top;\n    }\n\n    .dataframe thead th {\n        text-align: right;\n    }\n</style>\n<table border=\"1\" class=\"dataframe\">\n  <thead>\n    <tr style=\"text-align: right;\">\n      <th></th>\n      <th>9th</th>\n      <th>10th</th>\n      <th>11th</th>\n      <th>12th</th>\n    </tr>\n    <tr>\n      <th>school_name</th>\n      <th></th>\n      <th></th>\n      <th></th>\n      <th></th>\n    </tr>\n  </thead>\n  <tbody>\n    <tr>\n      <th>Bailey High School</th>\n      <td>77</td>\n      <td>77</td>\n      <td>78</td>\n      <td>76</td>\n    </tr>\n    <tr>\n      <th>Cabrera High School</th>\n      <td>83</td>\n      <td>83</td>\n      <td>83</td>\n      <td>83</td>\n    </tr>\n    <tr>\n      <th>Figueroa High School</th>\n      <td>76</td>\n      <td>77</td>\n      <td>77</td>\n      <td>77</td>\n    </tr>\n    <tr>\n      <th>Ford High School</th>\n      <td>77</td>\n      <td>78</td>\n      <td>77</td>\n      <td>76</td>\n    </tr>\n    <tr>\n      <th>Griffin High School</th>\n      <td>82</td>\n      <td>84</td>\n      <td>84</td>\n      <td>83</td>\n    </tr>\n    <tr>\n      <th>Hernandez High School</th>\n      <td>77</td>\n      <td>77</td>\n      <td>77</td>\n      <td>77</td>\n    </tr>\n    <tr>\n      <th>Holden High School</th>\n      <td>84</td>\n      <td>83</td>\n      <td>85</td>\n      <td>83</td>\n    </tr>\n    <tr>\n      <th>Huang High School</th>\n      <td>77</td>\n      <td>76</td>\n      <td>76</td>\n      <td>77</td>\n    </tr>\n    <tr>\n      <th>Johnson High School</th>\n      <td>77</td>\n      <td>77</td>\n      <td>77</td>\n      <td>77</td>\n    </tr>\n    <tr>\n      <th>Pena High School</th>\n      <td>84</td>\n      <td>83</td>\n      <td>84</td>\n      <td>84</td>\n    </tr>\n    <tr>\n      <th>Rodriguez High School</th>\n      <td>77</td>\n      <td>77</td>\n      <td>76</td>\n      <td>78</td>\n    </tr>\n    <tr>\n      <th>Shelton High School</th>\n      <td>83</td>\n      <td>83</td>\n      <td>83</td>\n      <td>84</td>\n    </tr>\n    <tr>\n      <th>Thomas High School</th>\n      <td>84</td>\n      <td>83</td>\n      <td>83</td>\n      <td>83</td>\n    </tr>\n    <tr>\n      <th>Wilson High School</th>\n      <td>83</td>\n      <td>84</td>\n      <td>83</td>\n      <td>83</td>\n    </tr>\n    <tr>\n      <th>Wright High School</th>\n      <td>83</td>\n      <td>84</td>\n      <td>84</td>\n      <td>84</td>\n    </tr>\n  </tbody>\n</table>\n</div>"
     },
     "metadata": {},
     "execution_count": 13
    }
   ],
   "source": [
    "df_grouped_school_grade_9 = df_student_schools.loc[df_student_schools['grade'] == '9th'].groupby('school_name')\n",
    "df_grouped_school_grade_10 = df_student_schools.loc[df_student_schools['grade'] == '10th'].groupby('school_name')\n",
    "df_grouped_school_grade_11 = df_student_schools.loc[df_student_schools['grade'] == '11th'].groupby('school_name')\n",
    "df_grouped_school_grade_12 = df_student_schools.loc[df_student_schools['grade'] == '12th'].groupby('school_name')\n",
    "\n",
    "df_math_scores_by_grade = pd.DataFrame({\n",
    "    '9th': df_grouped_school_grade_9['math_score'].mean().map(\"{:.0f}\".format),\n",
    "    '10th': df_grouped_school_grade_10['math_score'].mean().map(\"{:.0f}\".format),\n",
    "    '11th': df_grouped_school_grade_11['math_score'].mean().map(\"{:.0f}\".format),\n",
    "    '12th': df_grouped_school_grade_12['math_score'].mean().map(\"{:.0f}\".format),\n",
    "})\n",
    "\n",
    "df_math_scores_by_grade"
   ]
  },
  {
   "source": [
    "#  Reading Score by Grade"
   ],
   "cell_type": "markdown",
   "metadata": {}
  },
  {
   "cell_type": "code",
   "execution_count": 14,
   "metadata": {},
   "outputs": [
    {
     "output_type": "execute_result",
     "data": {
      "text/plain": [
       "                      9th 10th 11th 12th\n",
       "school_name                             \n",
       "Bailey High School     81   81   81   81\n",
       "Cabrera High School    84   84   84   84\n",
       "Figueroa High School   81   81   81   81\n",
       "Ford High School       81   81   80   81\n",
       "Griffin High School    83   84   84   84\n",
       "Hernandez High School  81   81   81   81\n",
       "Holden High School     84   83   84   85\n",
       "Huang High School      81   82   81   80\n",
       "Johnson High School    81   81   81   81\n",
       "Pena High School       84   84   84   85\n",
       "Rodriguez High School  81   81   81   80\n",
       "Shelton High School    84   83   84   83\n",
       "Thomas High School     84   84   84   84\n",
       "Wilson High School     84   84   84   84\n",
       "Wright High School     84   84   84   84"
      ],
      "text/html": "<div>\n<style scoped>\n    .dataframe tbody tr th:only-of-type {\n        vertical-align: middle;\n    }\n\n    .dataframe tbody tr th {\n        vertical-align: top;\n    }\n\n    .dataframe thead th {\n        text-align: right;\n    }\n</style>\n<table border=\"1\" class=\"dataframe\">\n  <thead>\n    <tr style=\"text-align: right;\">\n      <th></th>\n      <th>9th</th>\n      <th>10th</th>\n      <th>11th</th>\n      <th>12th</th>\n    </tr>\n    <tr>\n      <th>school_name</th>\n      <th></th>\n      <th></th>\n      <th></th>\n      <th></th>\n    </tr>\n  </thead>\n  <tbody>\n    <tr>\n      <th>Bailey High School</th>\n      <td>81</td>\n      <td>81</td>\n      <td>81</td>\n      <td>81</td>\n    </tr>\n    <tr>\n      <th>Cabrera High School</th>\n      <td>84</td>\n      <td>84</td>\n      <td>84</td>\n      <td>84</td>\n    </tr>\n    <tr>\n      <th>Figueroa High School</th>\n      <td>81</td>\n      <td>81</td>\n      <td>81</td>\n      <td>81</td>\n    </tr>\n    <tr>\n      <th>Ford High School</th>\n      <td>81</td>\n      <td>81</td>\n      <td>80</td>\n      <td>81</td>\n    </tr>\n    <tr>\n      <th>Griffin High School</th>\n      <td>83</td>\n      <td>84</td>\n      <td>84</td>\n      <td>84</td>\n    </tr>\n    <tr>\n      <th>Hernandez High School</th>\n      <td>81</td>\n      <td>81</td>\n      <td>81</td>\n      <td>81</td>\n    </tr>\n    <tr>\n      <th>Holden High School</th>\n      <td>84</td>\n      <td>83</td>\n      <td>84</td>\n      <td>85</td>\n    </tr>\n    <tr>\n      <th>Huang High School</th>\n      <td>81</td>\n      <td>82</td>\n      <td>81</td>\n      <td>80</td>\n    </tr>\n    <tr>\n      <th>Johnson High School</th>\n      <td>81</td>\n      <td>81</td>\n      <td>81</td>\n      <td>81</td>\n    </tr>\n    <tr>\n      <th>Pena High School</th>\n      <td>84</td>\n      <td>84</td>\n      <td>84</td>\n      <td>85</td>\n    </tr>\n    <tr>\n      <th>Rodriguez High School</th>\n      <td>81</td>\n      <td>81</td>\n      <td>81</td>\n      <td>80</td>\n    </tr>\n    <tr>\n      <th>Shelton High School</th>\n      <td>84</td>\n      <td>83</td>\n      <td>84</td>\n      <td>83</td>\n    </tr>\n    <tr>\n      <th>Thomas High School</th>\n      <td>84</td>\n      <td>84</td>\n      <td>84</td>\n      <td>84</td>\n    </tr>\n    <tr>\n      <th>Wilson High School</th>\n      <td>84</td>\n      <td>84</td>\n      <td>84</td>\n      <td>84</td>\n    </tr>\n    <tr>\n      <th>Wright High School</th>\n      <td>84</td>\n      <td>84</td>\n      <td>84</td>\n      <td>84</td>\n    </tr>\n  </tbody>\n</table>\n</div>"
     },
     "metadata": {},
     "execution_count": 14
    }
   ],
   "source": [
    "df_reading_scores_by_grade = pd.DataFrame({\n",
    "    '9th': df_grouped_school_grade_9['reading_score'].mean().map(\"{:.0f}\".format),\n",
    "    '10th': df_grouped_school_grade_10['reading_score'].mean().map(\"{:.0f}\".format),\n",
    "    '11th': df_grouped_school_grade_11['reading_score'].mean().map(\"{:.0f}\".format),\n",
    "    '12th': df_grouped_school_grade_12['reading_score'].mean().map(\"{:.0f}\".format),\n",
    "})\n",
    "\n",
    "df_reading_scores_by_grade"
   ]
  },
  {
   "source": [
    "# Scores by School Spending"
   ],
   "cell_type": "markdown",
   "metadata": {}
  },
  {
   "cell_type": "code",
   "execution_count": 15,
   "metadata": {},
   "outputs": [
    {
     "output_type": "execute_result",
     "data": {
      "text/plain": [
       "                              Average Math Score Average Reading Score  \\\n",
       "Spending Ranges (Per Student)                                            \n",
       "<$584                                         83                    84   \n",
       "$585-629                                      80                    82   \n",
       "$630-644                                      78                    81   \n",
       "$645-675                                      77                    81   \n",
       "\n",
       "                              % Passing Math % Passing Reading  \\\n",
       "Spending Ranges (Per Student)                                    \n",
       "<$584                                    94%               97%   \n",
       "$585-629                                 79%               89%   \n",
       "$630-644                                 71%               83%   \n",
       "$645-675                                 66%               81%   \n",
       "\n",
       "                              % Overall Passing  \n",
       "Spending Ranges (Per Student)                    \n",
       "<$584                                       91%  \n",
       "$585-629                                    71%  \n",
       "$630-644                                    59%  \n",
       "$645-675                                    54%  "
      ],
      "text/html": "<div>\n<style scoped>\n    .dataframe tbody tr th:only-of-type {\n        vertical-align: middle;\n    }\n\n    .dataframe tbody tr th {\n        vertical-align: top;\n    }\n\n    .dataframe thead th {\n        text-align: right;\n    }\n</style>\n<table border=\"1\" class=\"dataframe\">\n  <thead>\n    <tr style=\"text-align: right;\">\n      <th></th>\n      <th>Average Math Score</th>\n      <th>Average Reading Score</th>\n      <th>% Passing Math</th>\n      <th>% Passing Reading</th>\n      <th>% Overall Passing</th>\n    </tr>\n    <tr>\n      <th>Spending Ranges (Per Student)</th>\n      <th></th>\n      <th></th>\n      <th></th>\n      <th></th>\n      <th></th>\n    </tr>\n  </thead>\n  <tbody>\n    <tr>\n      <th>&lt;$584</th>\n      <td>83</td>\n      <td>84</td>\n      <td>94%</td>\n      <td>97%</td>\n      <td>91%</td>\n    </tr>\n    <tr>\n      <th>$585-629</th>\n      <td>80</td>\n      <td>82</td>\n      <td>79%</td>\n      <td>89%</td>\n      <td>71%</td>\n    </tr>\n    <tr>\n      <th>$630-644</th>\n      <td>78</td>\n      <td>81</td>\n      <td>71%</td>\n      <td>83%</td>\n      <td>59%</td>\n    </tr>\n    <tr>\n      <th>$645-675</th>\n      <td>77</td>\n      <td>81</td>\n      <td>66%</td>\n      <td>81%</td>\n      <td>54%</td>\n    </tr>\n  </tbody>\n</table>\n</div>"
     },
     "metadata": {},
     "execution_count": 15
    }
   ],
   "source": [
    "df_student_school_summary = df_students.merge(df_school_summary[['Budget Per Student']], on='school_name', how='left')\n",
    "\n",
    "bins = [0, 584, 629, 644, 675]\n",
    "bin_names = ['<$584', '$585-629', '$630-644', '$645-675']\n",
    "\n",
    "df_student_school_summary[\"Spending Ranges (Per Student)\"] = pd.cut(df_student_school_summary[\"Budget Per Student\"], bins, labels=bin_names, include_lowest=True)\n",
    "\n",
    "df_grouped_spend_per_student = df_student_school_summary.groupby('Spending Ranges (Per Student)')\n",
    "\n",
    "df_scores_by_spending_summary = pd.DataFrame({\n",
    "    'Average Math Score': df_grouped_spend_per_student['math_score'].mean().map(\"{:.0f}\".format),\n",
    "    'Average Reading Score': df_grouped_spend_per_student['reading_score'].mean().map(\"{:.0f}\".format),\n",
    "    '% Passing Math': df_grouped_spend_per_student.apply(lambda x: x[x['math_score'] >= 70]['Student ID'].count()/x['Student ID'].count()).map(\"{:.0%}\".format),\n",
    "    '% Passing Reading': df_grouped_spend_per_student.apply(lambda x: x[x['reading_score'] >= 70]['Student ID'].count()/x['Student ID'].count()).map(\"{:.0%}\".format),\n",
    "    '% Overall Passing': df_grouped_spend_per_student.apply(lambda x: x[(x['math_score'] >= 70) & (x['reading_score'] >= 70)]['Student ID'].count()/x['Student ID'].count()).map(\"{:.0%}\".format)\n",
    "})\n",
    "\n",
    "df_scores_by_spending_summary"
   ]
  },
  {
   "source": [
    "# Scores by School Size"
   ],
   "cell_type": "markdown",
   "metadata": {}
  },
  {
   "cell_type": "code",
   "execution_count": 16,
   "metadata": {},
   "outputs": [
    {
     "output_type": "execute_result",
     "data": {
      "text/plain": [
       "                   Average Math Score Average Reading Score % Passing Math  \\\n",
       "School Size                                                                  \n",
       "Small (<1000)                      84                    84            94%   \n",
       "Medium (1000-2000)                 83                    84            94%   \n",
       "Large (2000-5000)                  77                    81            69%   \n",
       "\n",
       "                   % Passing Reading % Overall Passing  \n",
       "School Size                                             \n",
       "Small (<1000)                    96%               90%  \n",
       "Medium (1000-2000)               97%               91%  \n",
       "Large (2000-5000)                82%               57%  "
      ],
      "text/html": "<div>\n<style scoped>\n    .dataframe tbody tr th:only-of-type {\n        vertical-align: middle;\n    }\n\n    .dataframe tbody tr th {\n        vertical-align: top;\n    }\n\n    .dataframe thead th {\n        text-align: right;\n    }\n</style>\n<table border=\"1\" class=\"dataframe\">\n  <thead>\n    <tr style=\"text-align: right;\">\n      <th></th>\n      <th>Average Math Score</th>\n      <th>Average Reading Score</th>\n      <th>% Passing Math</th>\n      <th>% Passing Reading</th>\n      <th>% Overall Passing</th>\n    </tr>\n    <tr>\n      <th>School Size</th>\n      <th></th>\n      <th></th>\n      <th></th>\n      <th></th>\n      <th></th>\n    </tr>\n  </thead>\n  <tbody>\n    <tr>\n      <th>Small (&lt;1000)</th>\n      <td>84</td>\n      <td>84</td>\n      <td>94%</td>\n      <td>96%</td>\n      <td>90%</td>\n    </tr>\n    <tr>\n      <th>Medium (1000-2000)</th>\n      <td>83</td>\n      <td>84</td>\n      <td>94%</td>\n      <td>97%</td>\n      <td>91%</td>\n    </tr>\n    <tr>\n      <th>Large (2000-5000)</th>\n      <td>77</td>\n      <td>81</td>\n      <td>69%</td>\n      <td>82%</td>\n      <td>57%</td>\n    </tr>\n  </tbody>\n</table>\n</div>"
     },
     "metadata": {},
     "execution_count": 16
    }
   ],
   "source": [
    "bins = [0, 999, 1999, 5000]\n",
    "bin_names = ['Small (<1000)', 'Medium (1000-2000)', 'Large (2000-5000)']\n",
    "\n",
    "df_student_schools[\"School Size\"] = pd.cut(df_student_schools[\"size\"], bins, labels=bin_names, include_lowest=True)\n",
    "\n",
    "df_grouped_school_size = df_student_schools.groupby('School Size')\n",
    "\n",
    "df_school_size_summary = pd.DataFrame({\n",
    "    'Average Math Score': df_grouped_school_size['math_score'].mean().map(\"{:.0f}\".format),\n",
    "    'Average Reading Score': df_grouped_school_size['reading_score'].mean().map(\"{:.0f}\".format),\n",
    "    '% Passing Math': df_grouped_school_size.apply(lambda x: x[x['math_score'] >= 70]['Student ID'].count()/x['Student ID'].count()).map(\"{:.0%}\".format),\n",
    "    '% Passing Reading': df_grouped_school_size.apply(lambda x: x[x['reading_score'] >= 70]['Student ID'].count()/x['Student ID'].count()).map(\"{:.0%}\".format),\n",
    "    '% Overall Passing': df_grouped_school_size.apply(lambda x: x[(x['math_score'] >= 70) & (x['reading_score'] >= 70)]['Student ID'].count()/x['Student ID'].count()).map(\"{:.0%}\".format)\n",
    "})\n",
    "\n",
    "df_school_size_summary"
   ]
  },
  {
   "source": [
    "# Scores by School Type"
   ],
   "cell_type": "markdown",
   "metadata": {}
  },
  {
   "cell_type": "code",
   "execution_count": 17,
   "metadata": {},
   "outputs": [
    {
     "output_type": "execute_result",
     "data": {
      "text/plain": [
       "         Average Math Score Average Reading Score % Passing Math  \\\n",
       "type                                                               \n",
       "Charter                  83                    84            94%   \n",
       "District                 77                    81            67%   \n",
       "\n",
       "         % Passing Reading % Overall Passing  \n",
       "type                                          \n",
       "Charter                97%               91%  \n",
       "District               81%               54%  "
      ],
      "text/html": "<div>\n<style scoped>\n    .dataframe tbody tr th:only-of-type {\n        vertical-align: middle;\n    }\n\n    .dataframe tbody tr th {\n        vertical-align: top;\n    }\n\n    .dataframe thead th {\n        text-align: right;\n    }\n</style>\n<table border=\"1\" class=\"dataframe\">\n  <thead>\n    <tr style=\"text-align: right;\">\n      <th></th>\n      <th>Average Math Score</th>\n      <th>Average Reading Score</th>\n      <th>% Passing Math</th>\n      <th>% Passing Reading</th>\n      <th>% Overall Passing</th>\n    </tr>\n    <tr>\n      <th>type</th>\n      <th></th>\n      <th></th>\n      <th></th>\n      <th></th>\n      <th></th>\n    </tr>\n  </thead>\n  <tbody>\n    <tr>\n      <th>Charter</th>\n      <td>83</td>\n      <td>84</td>\n      <td>94%</td>\n      <td>97%</td>\n      <td>91%</td>\n    </tr>\n    <tr>\n      <th>District</th>\n      <td>77</td>\n      <td>81</td>\n      <td>67%</td>\n      <td>81%</td>\n      <td>54%</td>\n    </tr>\n  </tbody>\n</table>\n</div>"
     },
     "metadata": {},
     "execution_count": 17
    }
   ],
   "source": [
    "\n",
    "df_grouped_school_type = df_student_schools.groupby('type')\n",
    "\n",
    "df_school_type_summary = pd.DataFrame({\n",
    "    'Average Math Score': df_grouped_school_type['math_score'].mean().map(\"{:.0f}\".format),\n",
    "    'Average Reading Score': df_grouped_school_type['reading_score'].mean().map(\"{:.0f}\".format),\n",
    "    '% Passing Math': df_grouped_school_type.apply(lambda x: x[x['math_score'] >= 70]['Student ID'].count()/x['Student ID'].count()).map(\"{:.0%}\".format),\n",
    "    '% Passing Reading': df_grouped_school_type.apply(lambda x: x[x['reading_score'] >= 70]['Student ID'].count()/x['Student ID'].count()).map(\"{:.0%}\".format),\n",
    "    '% Overall Passing': df_grouped_school_type.apply(lambda x: x[(x['math_score'] >= 70) & (x['reading_score'] >= 70)]['Student ID'].count()/x['Student ID'].count()).map(\"{:.0%}\".format)\n",
    "})\n",
    "\n",
    "df_school_type_summary"
   ]
  }
 ]
}